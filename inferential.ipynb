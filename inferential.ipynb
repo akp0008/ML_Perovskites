{
 "cells": [
  {
   "cell_type": "code",
   "execution_count": 1,
   "id": "62a83fca-506f-401f-8d0c-73776ded2743",
   "metadata": {},
   "outputs": [],
   "source": [
    "import pandas as pd\n",
    "import matplotlib.pyplot as plt\n",
    "import seaborn as sns\n",
    "import numpy as np\n",
    "import re\n",
    "import scipy.stats as stats\n",
    "from statsmodels.stats.multicomp import pairwise_tukeyhsd"
   ]
  },
  {
   "cell_type": "code",
   "execution_count": 2,
   "id": "8672bfd7-5526-4c51-8bf2-1abe54e75eeb",
   "metadata": {},
   "outputs": [],
   "source": [
    "df1=pd.read_csv('dataset.csv')\n",
    "mask=df1['F']==3\n",
    "df=df1[~mask].copy()\n",
    "halide_groups = df['Label'].apply(lambda x: 'Chloride' if 'Chloride' in x else 'Bromide' if 'Bromide' in x else 'Iodide')\n",
    "df['X_group'] = halide_groups\n",
    "\n",
    "# Example: Create box plots for defect energies grouped by cation/anion families\n",
    "cation_families = df['Label'].apply(lambda x: 'Germanium' if 'Germanium' in x else 'Tin' if 'Tin' in x else 'Lead')\n",
    "df['B_group'] = cation_families"
   ]
  },
  {
   "cell_type": "code",
   "execution_count": 3,
   "id": "be106afe-1b8d-4119-9591-0b6c0795c9f6",
   "metadata": {},
   "outputs": [],
   "source": [
    "# Define the regular expression patterns for each ammonium family\n",
    "patterns = {\n",
    "    'Ammonium': r'Ammonium',\n",
    "    'Methylammonium': r'Methylammonium',\n",
    "    'Dimethylammonium': r'Dimethylammonium',\n",
    "    'Trimethylammonium': r'Trimethylammonium',\n",
    "    'Tetramethylammonium': r'Tetramethylammonium',\n",
    "    'Ethylammonium': r'Ethylammonium',\n",
    "    'Propylammonium': r'Propylammonium',\n",
    "    'Isopropylammonium': r'Isopropylammonium',\n",
    "    'Butylammonium': r'Butylammonium',\n",
    "    'Hydroxylammonium': r'Hydroxylammonium',\n",
    "    'Formamidinium': r'Formamidinium',\n",
    "    'Acetamidinium': r'Acetamidinium',\n",
    "    'Hydrazinium': r'Hydrazinium',\n",
    "    'Guanidinium': r'Guanidinium',\n",
    "    'Azetidinium': r'Azetidinium',\n",
    "    'Imidazolium': r'Imidazolium'\n",
    "}\n",
    "\n",
    "# Function to map the Label to the ammonium family using regex\n",
    "def map_ammonium_family(label):\n",
    "    for family, pattern in patterns.items():\n",
    "        if re.search(pattern, label):\n",
    "            return family\n",
    "    return 'Unknown'  # Default if no match is found\n",
    "\n",
    "# Apply the mapping function to the 'Label' column\n",
    "df['A_group'] = df['Label'].apply(map_ammonium_family)"
   ]
  },
  {
   "cell_type": "code",
   "execution_count": 4,
   "id": "40706030-b2e6-4ea5-8255-0e2733f607b1",
   "metadata": {},
   "outputs": [],
   "source": [
    "# Creating a new column to represent combinations of A-site and X-site families\n",
    "df['A_X_combination'] = df['A_group'] + '_' + df['X_group']\n",
    "df['A_B_combination'] = df['A_group'] + '_' + df['B_group']\n",
    "df['B_X_combination'] = df['B_group'] + '_' + df['X_group']"
   ]
  },
  {
   "cell_type": "code",
   "execution_count": 7,
   "id": "397fa9a9-e7c3-409f-8caf-3d0d9ab215fc",
   "metadata": {},
   "outputs": [
    {
     "name": "stdout",
     "output_type": "stream",
     "text": [
      "One-Way ANOVA for A_group and A SITE DFE: F=25.649653740112367\n",
      "One-Way ANOVA for A_group and B SITE DFE: F=100.74810067906498\n",
      "One-Way ANOVA for A_group and X SITE DFE: F=116.29643700864575\n",
      "One-Way ANOVA for A_group and Bandgap, GGA (eV): F=2.2369851172208945\n",
      "One-Way ANOVA for A_X_combination and A SITE DFE: F=9.998412958266247\n",
      "One-Way ANOVA for A_X_combination and B SITE DFE: F=34.902239886784145\n",
      "One-Way ANOVA for A_X_combination and X SITE DFE: F=38.139064463643024\n",
      "One-Way ANOVA for A_X_combination and Bandgap, GGA (eV): F=27.702948337919935\n",
      "One-Way ANOVA for B_X_combination and A SITE DFE: F=4.1235753131805915\n",
      "One-Way ANOVA for B_X_combination and B SITE DFE: F=1.8122454888650203\n",
      "One-Way ANOVA for B_X_combination and X SITE DFE: F=1.4155184568468486\n",
      "One-Way ANOVA for B_X_combination and Bandgap, GGA (eV): F=172.01059998292462\n",
      "One-Way ANOVA for A_B_combination and A SITE DFE: F=29.24687305472002\n",
      "One-Way ANOVA for A_B_combination and B SITE DFE: F=96.20169125179724\n",
      "One-Way ANOVA for A_B_combination and X SITE DFE: F=275.17075916779436\n",
      "One-Way ANOVA for A_B_combination and Bandgap, GGA (eV): F=1.909562687940637\n"
     ]
    }
   ],
   "source": [
    "\n",
    "\n",
    "# Define the columns to analyze for ANOVA\n",
    "columns_to_analyze = [\n",
    "    'A SITE DFE', \n",
    "    'B SITE DFE', \n",
    "    'X SITE DFE', \n",
    "    'Bandgap, GGA (eV)'\n",
    "]\n",
    "\n",
    "# Define the groupings for the ANOVA\n",
    "group_columns = ['A_group', 'A_X_combination', 'B_X_combination', 'A_B_combination']\n",
    "\n",
    "# Loop through the group columns and the columns to analyze\n",
    "for group_col in group_columns:\n",
    "    for col in columns_to_analyze:\n",
    "        # Perform One-Way ANOVA\n",
    "        anova_result = stats.f_oneway(\n",
    "            *[df[df[group_col] == group][col].dropna() \n",
    "              for group in df[group_col].unique()]\n",
    "        )\n",
    "        \n",
    "        # Print the results\n",
    "        print(f\"One-Way ANOVA for {group_col} and {col}: F={anova_result.statistic}\")"
   ]
  },
  {
   "cell_type": "code",
   "execution_count": null,
   "id": "a7a69a25-e9d1-4d52-90f3-b2344364e9d0",
   "metadata": {},
   "outputs": [],
   "source": [
    "# Loop through the group columns and the columns to analyze\n",
    "for group_col in group_columns:\n",
    "    for col in columns_to_analyze:\n",
    "        try:\n",
    "            tukey = pairwise_tukeyhsd(\n",
    "                endog=df[col].dropna(),\n",
    "                groups=df[group_col][df[col].notna()],\n",
    "                alpha=0.05\n",
    "            )\n",
    "            print(f\"Tukey HSD for {group_col} and {col}:\")\n",
    "            print(tukey.summary())\n",
    "            print(\"\\n\" + \"-\"*80 + \"\\n\")\n",
    "        except Exception as e:\n",
    "            print(f\"Could not perform Tukey HSD for {group_col} and {col}: {e}\")"
   ]
  }
 ],
 "metadata": {
  "kernelspec": {
   "display_name": "Python 3 (ipykernel)",
   "language": "python",
   "name": "python3"
  },
  "language_info": {
   "codemirror_mode": {
    "name": "ipython",
    "version": 3
   },
   "file_extension": ".py",
   "mimetype": "text/x-python",
   "name": "python",
   "nbconvert_exporter": "python",
   "pygments_lexer": "ipython3",
   "version": "3.8.10"
  }
 },
 "nbformat": 4,
 "nbformat_minor": 5
}
