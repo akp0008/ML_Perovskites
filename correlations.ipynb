{
 "cells": [
  {
   "cell_type": "code",
   "execution_count": 1,
   "id": "f3d7f930-1bc4-42bf-b811-82b55190ee7d",
   "metadata": {},
   "outputs": [],
   "source": [
    "import pandas as pd\n",
    "import matplotlib.pyplot as plt\n",
    "import seaborn as sns\n",
    "from sklearn.feature_selection import mutual_info_regression\n",
    "import numpy as np\n",
    "import dcor\n",
    "from minepy import MINE"
   ]
  },
  {
   "cell_type": "code",
   "execution_count": 7,
   "id": "2a853473-2c93-4cd2-a1e2-0cb716894840",
   "metadata": {},
   "outputs": [
    {
     "name": "stderr",
     "output_type": "stream",
     "text": [
      "/tmp/ipykernel_3635849/2914193034.py:9: SettingWithCopyWarning: \n",
      "A value is trying to be set on a copy of a slice from a DataFrame\n",
      "\n",
      "See the caveats in the documentation: https://pandas.pydata.org/pandas-docs/stable/user_guide/indexing.html#returning-a-view-versus-a-copy\n",
      "  df.rename(columns={'Bandgap, GGA (eV)':'Bandgap','A SITE DFE':'E$_A$', 'B SITE DFE':'E$_B$', 'X SITE DFE':'E$_X$', 'Atomization energy (eV/atom)':'E$_{atomization}$',\n"
     ]
    }
   ],
   "source": [
    "df1=pd.read_csv('dataset.csv')\n",
    "mask=df1['F']==3\n",
    "df2=df1[~mask].copy()\n",
    "df=df2[['Bandgap, GGA (eV)', 'Dielectric constant, total', 'Refractive index',\n",
    "       'Atomization energy (eV/atom)', 'Volume of the unit cell (A^3)',\n",
    "       'Density (g/cm^3)', 'Tolerance factor', 'Octahedral factor', 'rA(Ang)',\n",
    "       'rB(Ang)', 'rX(Ang)', 'A SITE DFE',\n",
    "       'B SITE DFE', 'X SITE DFE']]\n",
    "df.rename(columns={'Bandgap, GGA (eV)':'Bandgap','A SITE DFE':'E$_A$', 'B SITE DFE':'E$_B$', 'X SITE DFE':'E$_X$', 'Atomization energy (eV/atom)':'E$_{atomization}$', \n",
    "                                'Density (g/cm^3)':'Density','rA(Ang)':'r$_A$','rB (Ang)':'r$_B$','rX(Ang)':'r$_X$', 'Volume of the unit cell (A^3)':'Unit cell volume', 'Dielectric constant, total':'Dielectric constant'},inplace=True)"
   ]
  },
  {
   "cell_type": "code",
   "execution_count": 8,
   "id": "f4283ca5-9c68-4734-8ba5-880adb2345d8",
   "metadata": {},
   "outputs": [
    {
     "ename": "NameError",
     "evalue": "name 'df_corr' is not defined",
     "output_type": "error",
     "traceback": [
      "\u001b[0;31m---------------------------------------------------------------------------\u001b[0m",
      "\u001b[0;31mNameError\u001b[0m                                 Traceback (most recent call last)",
      "Cell \u001b[0;32mIn[8], line 14\u001b[0m\n\u001b[1;32m     11\u001b[0m     \u001b[38;5;28;01mreturn\u001b[39;00m mutual_info\u001b[38;5;241m.\u001b[39mastype(\u001b[38;5;28mfloat\u001b[39m)\n\u001b[1;32m     13\u001b[0m \u001b[38;5;66;03m# Calculate mutual information\u001b[39;00m\n\u001b[0;32m---> 14\u001b[0m mutual_info_df \u001b[38;5;241m=\u001b[39m calculate_mutual_info(\u001b[43mdf_corr\u001b[49m)\n\u001b[1;32m     15\u001b[0m \u001b[38;5;66;03m# Plot the heatmap with bold font for the title, labels, and annotations\u001b[39;00m\n\u001b[1;32m     16\u001b[0m plt\u001b[38;5;241m.\u001b[39mfigure(figsize\u001b[38;5;241m=\u001b[39m(\u001b[38;5;241m14\u001b[39m, \u001b[38;5;241m10\u001b[39m))\n",
      "\u001b[0;31mNameError\u001b[0m: name 'df_corr' is not defined"
     ]
    }
   ],
   "source": [
    "# Function to calculate mutual information between all pairs of columns\n",
    "def calculate_mutual_info(df):\n",
    "    mutual_info = pd.DataFrame(index=df.columns, columns=df.columns)\n",
    "    for feature1 in df.columns:\n",
    "        for feature2 in df.columns:\n",
    "            if feature1 == feature2:\n",
    "                mutual_info.at[feature1, feature2] = np.nan  # Self-correlation is not needed\n",
    "            else:\n",
    "                mi = mutual_info_regression(df[[feature1]], df[feature2])[0]\n",
    "                mutual_info.at[feature1, feature2] = mi\n",
    "    return mutual_info.astype(float)\n",
    "\n",
    "# Calculate mutual information\n",
    "mutual_info_df = calculate_mutual_info(df_corr)\n",
    "# Plot the heatmap with bold font for the title, labels, and annotations\n",
    "plt.figure(figsize=(14, 10))\n",
    "heatmap=sns.heatmap(mutual_info_df, annot=True, fmt='.2f', cmap='Oranges', cbar=True, linewidths=0.5, linecolor='black',\n",
    "            annot_kws={\"fontweight\": \"bold\", \"size\": 14},  # Adjust font size of annotations\n",
    "                      cbar_kws={'shrink': 0.8})  # Bold annotations\n",
    "\n",
    "cbar = heatmap.collections[0].colorbar  # Access the colorbar from the heatmap object\n",
    "cbar.ax.tick_params(labelsize=14)  \n",
    "for label in cbar.ax.get_yticklabels():  # Iterate over the colorbar labels\n",
    "    label.set_fontweight('bold')  # Set each colorbar tick label to bold\n",
    "\n",
    "plt.title('Mutual Information Heatmap', fontsize=20, fontweight='bold')  # Bold title\n",
    "plt.xticks(rotation=45, ha='right', fontsize=18, fontweight='bold')  # Bold x-axis labels\n",
    "plt.yticks(rotation=0, fontsize=18, fontweight='bold')  # Bold y-axis labels\n",
    "\n",
    "plt.tight_layout()\n",
    "plt.savefig('Mutual_info_heatmap.pdf', format='pdf', bbox_inches='tight', transparent=True, dpi=2000)  # Save with higher resolution\n",
    "plt.show()"
   ]
  },
  {
   "cell_type": "code",
   "execution_count": null,
   "id": "baba167e-9ecb-4feb-90f5-7a5c489edff0",
   "metadata": {},
   "outputs": [],
   "source": [
    "# Define a function to compute distance correlation for each pair of variables\n",
    "def compute_dcor(df):\n",
    "    n = df.shape[1]\n",
    "    dcor_matrix = np.zeros((n, n))\n",
    "    for i in range(n):\n",
    "        for j in range(n):\n",
    "            dcor_matrix[i, j] = dcor.distance_correlation(df.iloc[:, i], df.iloc[:, j])\n",
    "    return pd.DataFrame(dcor_matrix, index=df.columns, columns=df.columns)\n",
    "\n",
    "# Calculate the distance correlation matrix\n",
    "dcor_matrix = compute_dcor(df_corr)\n",
    "\n",
    "# Plot heatmap\n",
    "plt.figure(figsize=(14, 10))\n",
    "heatmap=sns.heatmap(dcor_matrix,fmt='.2f', annot=True, cmap='Greens', cbar=True, linewidths=0.5, linecolor='black',\n",
    "            annot_kws={\"fontweight\": \"bold\",\"size\": 14}, cbar_kws={'shrink': 0.8})\n",
    "cbar = heatmap.collections[0].colorbar  # Access the colorbar from the heatmap object\n",
    "cbar.ax.tick_params(labelsize=14)  \n",
    "for label in cbar.ax.get_yticklabels():  # Iterate over the colorbar labels\n",
    "    label.set_fontweight('bold')  # Set each colorbar tick label to bold\n",
    "\n",
    "plt.title('Distance Correlation Heatmap',fontsize=20, fontweight='bold')\n",
    "plt.xticks(rotation=45, ha='right', fontsize=18, fontweight='bold')  # Bold x-axis labels\n",
    "plt.yticks(rotation=0, fontsize=18, fontweight='bold')  # Bold y-axis labels\n",
    "plt.tight_layout()\n",
    "plt.savefig('dcor_heatmap.pdf', format='pdf', bbox_inches='tight', transparent=True, dpi=2000)  # Save with higher resolution\n",
    "plt.show()"
   ]
  },
  {
   "cell_type": "code",
   "execution_count": null,
   "id": "39811db7-8d15-410f-8ca4-2bd28f9fe395",
   "metadata": {},
   "outputs": [],
   "source": [
    "# Define a function to compute MIC for each pair of variables\n",
    "def compute_mic(df):\n",
    "    n = df.shape[1]\n",
    "    mic_matrix = np.zeros((n, n))\n",
    "    mine = MINE()\n",
    "    for i in range(n):\n",
    "        for j in range(n):\n",
    "            mine.compute_score(df.iloc[:, i], df.iloc[:, j])\n",
    "            mic_matrix[i, j] = mine.mic()\n",
    "    return pd.DataFrame(mic_matrix, index=df.columns, columns=df.columns)\n",
    "\n",
    "# Calculate the MIC matrix\n",
    "mic_matrix = compute_mic(df_corr)\n",
    "\n",
    "# Plot heatmap\n",
    "plt.figure(figsize=(14, 10))\n",
    "heatmap=sns.heatmap(mic_matrix, annot=True, fmt='.2f', cmap='Reds',cbar=True, linewidths=0.5, linecolor='black',\n",
    "            annot_kws={\"fontweight\": \"bold\",\"size\": 14},cbar_kws={'shrink': 0.8})\n",
    "cbar = heatmap.collections[0].colorbar  # Access the colorbar from the heatmap object\n",
    "cbar.ax.tick_params(labelsize=14)  \n",
    "for label in cbar.ax.get_yticklabels():  # Iterate over the colorbar labels\n",
    "    label.set_fontweight('bold')  # Set each colorbar tick label to bold\n",
    "\n",
    "plt.title('Maximal Information Coefficient (MIC) Heatmap',fontsize=20, fontweight='bold')\n",
    "plt.xticks(rotation=45, ha='right', fontsize=18, fontweight='bold')  # Bold x-axis labels\n",
    "plt.yticks(rotation=0, fontsize=18, fontweight='bold')  # Bold y-axis labels\n",
    "plt.tight_layout()\n",
    "plt.savefig('MIC_heatmap.pdf', format='pdf', bbox_inches='tight', transparent=True, dpi=2000)  # Save with higher resolution\n",
    "plt.show()"
   ]
  }
 ],
 "metadata": {
  "kernelspec": {
   "display_name": "Python 3 (ipykernel)",
   "language": "python",
   "name": "python3"
  },
  "language_info": {
   "codemirror_mode": {
    "name": "ipython",
    "version": 3
   },
   "file_extension": ".py",
   "mimetype": "text/x-python",
   "name": "python",
   "nbconvert_exporter": "python",
   "pygments_lexer": "ipython3",
   "version": "3.8.10"
  }
 },
 "nbformat": 4,
 "nbformat_minor": 5
}
